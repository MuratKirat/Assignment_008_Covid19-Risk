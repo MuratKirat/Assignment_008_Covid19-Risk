{
  "nbformat": 4,
  "nbformat_minor": 0,
  "metadata": {
    "colab": {
      "name": "Assignment_008.ipynb",
      "provenance": [],
      "collapsed_sections": [],
      "authorship_tag": "ABX9TyOusvoX/mFJ9JEy7bjFeUaG",
      "include_colab_link": true
    },
    "kernelspec": {
      "name": "python3",
      "display_name": "Python 3"
    },
    "language_info": {
      "name": "python"
    }
  },
  "cells": [
    {
      "cell_type": "markdown",
      "metadata": {
        "id": "view-in-github",
        "colab_type": "text"
      },
      "source": [
        "<a href=\"https://colab.research.google.com/github/MuratKirat/Assignment_008_Covid19-Risk/blob/main/Assignment_008.ipynb\" target=\"_parent\"><img src=\"https://colab.research.google.com/assets/colab-badge.svg\" alt=\"Open In Colab\"/></a>"
      ]
    },
    {
      "cell_type": "code",
      "metadata": {
        "id": "5ODRA5-0w8Ji"
      },
      "source": [
        "age = int(input(\"Kaş yaşındasınız?  \"))\n",
        "chronic = str(input(\"Ciddi kronik rahatsızlığınız var mı? (E/H) \"))\n",
        "immune = str(input(\"Bağışıklık sisteminiz ne durumdadır? (Z/G) \"))\n",
        "\n",
        "yas = bool(age>=75)\n",
        "chr = bool(chronic == \"E\")\n",
        "imm = bool(immune == \"Z\")\n",
        "\n",
        "risk = (yas and chr and imm)\n",
        "\n",
        "if risk == True:\n",
        "  print(\"You're in risky group\")\n",
        "else:\n",
        "  print(\"You're not in risky group\")"
      ],
      "execution_count": null,
      "outputs": []
    }
  ]
}